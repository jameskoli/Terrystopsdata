{
 "cells": [
  {
   "cell_type": "code",
   "execution_count": null,
   "metadata": {},
   "outputs": [],
   "source": [
    "#importing liblaries\n",
    "import pandas as pd\n",
    "import numpy as np\n",
    "from sklearn import linear_model\n",
    "from sklearn.linear_model import LinearRegression\n",
    "import seaborn as sns\n",
    "import matplotlib.pyplot as plt\n",
    "from sklearn.model_selection import train_test_split\n",
    "from sklearn.preprocessing import LabelEncoder, OneHotEncoder\n",
    "from sklearn.compose import ColumnTransformer\n",
    "from sklearn.linear_model import LogisticRegression\n",
    "from sklearn.metrics import accuracy_score\n",
    "from sklearn.metrics import accuracy_score, precision_score, recall_score, f1_score, confusion_matrix\n",
    "from sklearn.tree import DecisionTreeClassifier\n",
    "from sklearn.ensemble import RandomForestClassifier, AdaBoostClassifier, GradientBoostingClassifier\n",
    "from sklearn.naive_bayes import GaussianNB\n"
   ]
  },
  {
   "cell_type": "markdown",
   "metadata": {},
   "source": [
    "DATA UNDERSTANDING"
   ]
  },
  {
   "cell_type": "code",
   "execution_count": null,
   "metadata": {},
   "outputs": [],
   "source": [
    "file_path = \"C:\\\\Users\\\\HP\\\\Desktop\\\\terry dtops data\\\\Terry_Stops_20240301.csv\"\n",
    "df = pd.read_csv(file_path)\n",
    "\n",
    "df"
   ]
  },
  {
   "cell_type": "code",
   "execution_count": null,
   "metadata": {},
   "outputs": [],
   "source": [
    "df.head()"
   ]
  },
  {
   "cell_type": "code",
   "execution_count": null,
   "metadata": {},
   "outputs": [],
   "source": [
    "df.dtypes"
   ]
  },
  {
   "cell_type": "code",
   "execution_count": null,
   "metadata": {},
   "outputs": [],
   "source": [
    "df.columns"
   ]
  },
  {
   "cell_type": "code",
   "execution_count": null,
   "metadata": {},
   "outputs": [],
   "source": [
    "# Iterating over columns to identify categorical variables\n",
    "for column in df.columns:\n",
    "    if df[column].dtype == 'object':\n",
    "        unique_values = df[column].unique()\n",
    "        print(f\"Unique values for {column}: {unique_values}\")"
   ]
  },
  {
   "cell_type": "code",
   "execution_count": null,
   "metadata": {},
   "outputs": [],
   "source": [
    "df.describe()"
   ]
  },
  {
   "cell_type": "code",
   "execution_count": null,
   "metadata": {},
   "outputs": [],
   "source": [
    "#checking for null values\n",
    "missing_values = df.isnull().sum()\n",
    "missing_values"
   ]
  },
  {
   "cell_type": "code",
   "execution_count": null,
   "metadata": {},
   "outputs": [],
   "source": [
    "# Checking for NaN values in the DataFrame\n",
    "nan_values = df.isna().sum()\n",
    "\n",
    "# Display columns with NaN values and their respective counts\n",
    "print(\"Columns with NaN values:\")\n",
    "print(nan_values[nan_values > 0])\n"
   ]
  },
  {
   "cell_type": "markdown",
   "metadata": {},
   "source": [
    "### Feature engineering "
   ]
  },
  {
   "cell_type": "code",
   "execution_count": null,
   "metadata": {},
   "outputs": [],
   "source": [
    "\n",
    "# Creating a new feature indicating whether a weapon was involved in the stop\n",
    "df['Weapon Involved'] = df['Weapon Type'].notnull().astype(int)\n",
    "\n",
    "\n",
    "# Creating a new feature representing the geographical area of the stop by combining \"Precinct\", \"Sector\", and \"Beat\"\n",
    "df['Geographical Area'] = df['Precinct'] + '-' + df['Sector'] + '-' + df['Beat']\n",
    "\n",
    "print(df.head())\n"
   ]
  },
  {
   "cell_type": "code",
   "execution_count": null,
   "metadata": {},
   "outputs": [],
   "source": [
    "df.head()"
   ]
  },
  {
   "cell_type": "code",
   "execution_count": null,
   "metadata": {},
   "outputs": [],
   "source": [
    "\n",
    "#interaction terms between officers race and call type\n",
    "df['Race_CallType'] = df['Officer Race'] + '_' + df['Call Type']\n",
    "\n",
    "print(df.head())\n"
   ]
  },
  {
   "cell_type": "code",
   "execution_count": null,
   "metadata": {},
   "outputs": [],
   "source": [
    "df.head()"
   ]
  },
  {
   "cell_type": "markdown",
   "metadata": {},
   "source": [
    "### Data Analysis and exploration"
   ]
  },
  {
   "cell_type": "markdown",
   "metadata": {},
   "source": [
    "Getting the relevant collumns for my analysis"
   ]
  },
  {
   "cell_type": "code",
   "execution_count": 32,
   "metadata": {},
   "outputs": [
    {
     "data": {
      "text/html": [
       "<div>\n",
       "<style scoped>\n",
       "    .dataframe tbody tr th:only-of-type {\n",
       "        vertical-align: middle;\n",
       "    }\n",
       "\n",
       "    .dataframe tbody tr th {\n",
       "        vertical-align: top;\n",
       "    }\n",
       "\n",
       "    .dataframe thead th {\n",
       "        text-align: right;\n",
       "    }\n",
       "</style>\n",
       "<table border=\"1\" class=\"dataframe\">\n",
       "  <thead>\n",
       "    <tr style=\"text-align: right;\">\n",
       "      <th></th>\n",
       "      <th>Officer Race</th>\n",
       "      <th>Subject Perceived Race</th>\n",
       "      <th>Stop Resolution</th>\n",
       "      <th>Geographical Area</th>\n",
       "      <th>Weapon Involved</th>\n",
       "    </tr>\n",
       "  </thead>\n",
       "  <tbody>\n",
       "    <tr>\n",
       "      <th>0</th>\n",
       "      <td>Hispanic or Latino</td>\n",
       "      <td>White</td>\n",
       "      <td>Arrest</td>\n",
       "      <td>Southwest-W-W1</td>\n",
       "      <td>1</td>\n",
       "    </tr>\n",
       "    <tr>\n",
       "      <th>1</th>\n",
       "      <td>White</td>\n",
       "      <td>White</td>\n",
       "      <td>Arrest</td>\n",
       "      <td>West-Q-Q3</td>\n",
       "      <td>0</td>\n",
       "    </tr>\n",
       "    <tr>\n",
       "      <th>2</th>\n",
       "      <td>White</td>\n",
       "      <td>White</td>\n",
       "      <td>Arrest</td>\n",
       "      <td>Southwest-W-W1</td>\n",
       "      <td>0</td>\n",
       "    </tr>\n",
       "    <tr>\n",
       "      <th>3</th>\n",
       "      <td>White</td>\n",
       "      <td>White</td>\n",
       "      <td>Offense Report</td>\n",
       "      <td>North-J-J2</td>\n",
       "      <td>0</td>\n",
       "    </tr>\n",
       "    <tr>\n",
       "      <th>4</th>\n",
       "      <td>White</td>\n",
       "      <td>Black or African American</td>\n",
       "      <td>Offense Report</td>\n",
       "      <td>North-N-N3</td>\n",
       "      <td>0</td>\n",
       "    </tr>\n",
       "  </tbody>\n",
       "</table>\n",
       "</div>"
      ],
      "text/plain": [
       "         Officer Race     Subject Perceived Race Stop Resolution  \\\n",
       "0  Hispanic or Latino                      White          Arrest   \n",
       "1               White                      White          Arrest   \n",
       "2               White                      White          Arrest   \n",
       "3               White                      White  Offense Report   \n",
       "4               White  Black or African American  Offense Report   \n",
       "\n",
       "  Geographical Area  Weapon Involved  \n",
       "0    Southwest-W-W1                1  \n",
       "1         West-Q-Q3                0  \n",
       "2    Southwest-W-W1                0  \n",
       "3        North-J-J2                0  \n",
       "4        North-N-N3                0  "
      ]
     },
     "execution_count": 32,
     "metadata": {},
     "output_type": "execute_result"
    }
   ],
   "source": [
    "\n",
    "selected_columns = ['Officer Race', 'Subject Perceived Race', 'Stop Resolution', 'Geographical Area','Weapon Involved']\n",
    "race_relationship_data = df[selected_columns]\n",
    "\n",
    "race_relationship_data.head()"
   ]
  },
  {
   "cell_type": "code",
   "execution_count": null,
   "metadata": {},
   "outputs": [],
   "source": [
    "race_relationship_data.dtypes"
   ]
  },
  {
   "cell_type": "markdown",
   "metadata": {},
   "source": [
    "### Race composition for officers and subject involved"
   ]
  },
  {
   "cell_type": "code",
   "execution_count": null,
   "metadata": {},
   "outputs": [],
   "source": [
    "race_counts = race_relationship_data['Officer Race'].value_counts()\n",
    "\n",
    "# Plotting the race composition\n",
    "plt.figure(figsize=(8, 6))\n",
    "sns.barplot(x=race_counts.index, y=race_counts.values, palette='viridis')\n",
    "plt.title('Race Composition of Officers')\n",
    "plt.xlabel('Officer Race')\n",
    "plt.ylabel('Count')\n",
    "plt.xticks(rotation=45, ha='right')  \n",
    "plt.tight_layout()  \n",
    "plt.show()\n"
   ]
  },
  {
   "cell_type": "code",
   "execution_count": null,
   "metadata": {},
   "outputs": [],
   "source": [
    "# Plotting the distribution of subject perceived race with rotated labels\n",
    "plt.figure(figsize=(10, 6))\n",
    "sns.countplot(x='Subject Perceived Race', data=race_relationship_data, palette='viridis')\n",
    "plt.title('Distribution of Subject Perceived Race')\n",
    "plt.xlabel('Subject Perceived Race')\n",
    "plt.ylabel('Count')\n",
    "plt.xticks(rotation=90)  \n",
    "plt.tight_layout()  \n",
    "plt.show()"
   ]
  },
  {
   "cell_type": "markdown",
   "metadata": {},
   "source": [
    "### Relationship between office and subject by race"
   ]
  },
  {
   "cell_type": "code",
   "execution_count": null,
   "metadata": {},
   "outputs": [],
   "source": [
    "\n",
    "# i'm Creating a pivot table to count occurrences of each combination of races\n",
    "pivot_table = race_relationship_data.pivot_table(index='Officer Race', columns='Subject Perceived Race', aggfunc='size', fill_value=0)\n",
    "\n",
    "# Plotting the heatmap\n",
    "plt.figure(figsize=(10, 6))\n",
    "sns.heatmap(pivot_table, annot=True, fmt='d', cmap='viridis')\n",
    "plt.title('Relationship between Officer Race and Subject Perceived Race')\n",
    "plt.xlabel('Subject Perceived Race')\n",
    "plt.ylabel('Officer Race')\n",
    "plt.xticks(rotation=45, ha='right')  \n",
    "plt.yticks(rotation=0, va='center')  \n",
    "plt.tight_layout()  \n",
    "plt.show()"
   ]
  },
  {
   "cell_type": "markdown",
   "metadata": {},
   "source": [
    "## Hypothesis Testing: Relationship Between Officer's Race and Stop Resolution\n",
    "\n",
    "### Hypotheses:\n",
    "- **Null Hypothesis (H0):** There is no association between the officer's race and the stop resolution.\n",
    "- **Alternative Hypothesis (H1):** There is an association between the officer's race and the stop resolution.\n",
    "\n",
    "### Finding:\n",
    "Based on the small p-value obtained from the chi-square test (much smaller than the significance level of 0.05), we reject the null hypothesis in favor of the alternative hypothesis, indicating that there is indeed a significant association between the officer's race and the stop resolution.\n",
    "This analysis suggests that the type of stop resolution is not independent of the officer's race, indicating potential biases or underlying factors influencing the stop resolution based on the officer's race."
   ]
  },
  {
   "cell_type": "code",
   "execution_count": 30,
   "metadata": {},
   "outputs": [
    {
     "name": "stdout",
     "output_type": "stream",
     "text": [
      "Contingency Table:\n",
      "Stop Resolution                Arrest  Citation / Infraction  Field Contact  \\\n",
      "Officer Race                                                                  \n",
      "American Indian/Alaska Native      79                      0            148   \n",
      "Asian                             667                      8           1368   \n",
      "Black or African American         494                     10           1240   \n",
      "Hispanic or Latino                927                     19           2212   \n",
      "Nat Hawaiian/Oth Pac Islander     111                      2            239   \n",
      "Not Specified                     629                     16           1278   \n",
      "Two or More Races                 998                     18           2039   \n",
      "Unknown                            21                      1             69   \n",
      "White                           10519                    140          20695   \n",
      "\n",
      "Stop Resolution                Offense Report  Referred for Prosecution  \n",
      "Officer Race                                                             \n",
      "American Indian/Alaska Native             113                         5  \n",
      "Asian                                     666                        28  \n",
      "Black or African American                 610                        23  \n",
      "Hispanic or Latino                        644                        33  \n",
      "Nat Hawaiian/Oth Pac Islander             175                         5  \n",
      "Not Specified                             755                        33  \n",
      "Two or More Races                         843                        37  \n",
      "Unknown                                     9                         0  \n",
      "White                                   10678                       562  \n",
      "\n",
      "Chi-square Statistic: 290.90974868387866\n",
      "P-value: 1.5887918579143633e-43\n"
     ]
    }
   ],
   "source": [
    "from scipy.stats import chi2_contingency\n",
    "\n",
    "# Creating a contingency table\n",
    "contingency_table = pd.crosstab(race_relationship_data['Officer Race'], race_relationship_data['Stop Resolution'])\n",
    "\n",
    "print(\"Contingency Table:\")\n",
    "print(contingency_table)\n",
    "\n",
    "# Calculating chi-square statistic and p-value\n",
    "chi2, p, _, _ = chi2_contingency(contingency_table)\n",
    "print(\"\\nChi-square Statistic:\", chi2)\n",
    "print(\"P-value:\", p)"
   ]
  },
  {
   "cell_type": "markdown",
   "metadata": {},
   "source": [
    "contingency table visualization"
   ]
  },
  {
   "cell_type": "code",
   "execution_count": 31,
   "metadata": {},
   "outputs": [
    {
     "data": {
      "image/png": "[encoded data removed]",
      "text/plain": [
       "<Figure size 1000x800 with 2 Axes>"
      ]
     },
     "metadata": {},
     "output_type": "display_data"
    }
   ],
   "source": [
    "\n",
    "# Define the contingency table\n",
    "contingency_table = [[79, 0, 148, 113, 5],\n",
    "                     [667, 8, 1368, 666, 28],\n",
    "                     [494, 10, 1240, 610, 23],\n",
    "                     [927, 19, 2212, 644, 33],\n",
    "                     [111, 2, 239, 175, 5],\n",
    "                     [629, 16, 1278, 755, 33],\n",
    "                     [998, 18, 2039, 843, 37],\n",
    "                     [21, 1, 69, 9, 0],\n",
    "                     [10519, 140, 20695, 10678, 562]]\n",
    "\n",
    "# Defining officer races and stop resolutions\n",
    "officer_races = ['American Indian/Alaska Native', 'Asian', 'Black or African American', \n",
    "                 'Hispanic or Latino', 'Nat Hawaiian/Oth Pac Islander', 'Not Specified', \n",
    "                 'Two or More Races', 'Unknown', 'White']\n",
    "stop_resolutions = ['Arrest', 'Citation / Infraction', 'Field Contact', \n",
    "                    'Offense Report', 'Referred for Prosecution']\n",
    "\n",
    "# Creating a heatmap\n",
    "plt.figure(figsize=(10, 8))\n",
    "sns.heatmap(contingency_table, annot=True, cmap='Blues', fmt='d',\n",
    "            xticklabels=stop_resolutions, yticklabels=officer_races, cbar=True)\n",
    "plt.title('Contingency Table: Officer Race vs Stop Resolution')\n",
    "plt.xlabel('Stop Resolution')\n",
    "plt.ylabel('Officer Race')\n",
    "plt.show()\n"
   ]
  },
  {
   "cell_type": "markdown",
   "metadata": {},
   "source": [
    "### Stop resolutions in randomly selected areas"
   ]
  },
  {
   "cell_type": "code",
   "execution_count": null,
   "metadata": {},
   "outputs": [],
   "source": [
    "# Select random areas\n",
    "random_areas = df['Geographical Area'].sample(n=11, random_state=42)  # Change n to the number of random areas you want\n",
    "\n",
    "# Filter DataFrame to include only randomly selected areas\n",
    "df_random_areas = df[df['Geographical Area'].isin(random_areas)]\n",
    "\n",
    "# Plotting\n",
    "plt.figure(figsize=(10, 6))\n",
    "sns.countplot(data=df_random_areas, x='Geographical Area', hue='Stop Resolution')\n",
    "plt.title('Stop Resolutions in Randomly Selected Geographical Areas')\n",
    "plt.xlabel('Geographical Area')\n",
    "plt.ylabel('Count')\n",
    "plt.legend(title='Stop Resolution')\n",
    "plt.xticks(rotation=45, ha='right')\n",
    "plt.show()"
   ]
  },
  {
   "cell_type": "markdown",
   "metadata": {},
   "source": [
    "### stop resolutions with weapons involvement"
   ]
  },
  {
   "cell_type": "code",
   "execution_count": null,
   "metadata": {},
   "outputs": [],
   "source": [
    "# Plotting\n",
    "plt.figure(figsize=(10, 6))\n",
    "sns.countplot(data=df, x='Stop Resolution', hue='Weapon Involved')\n",
    "plt.title('Stop Resolutions with Weapon Involvement')\n",
    "plt.xlabel('Stop Resolution')\n",
    "plt.ylabel('Count')\n",
    "plt.legend(title='Weapon Involved', labels=['No', 'Yes'])\n",
    "plt.xticks(rotation=45, ha='right')\n",
    "plt.show()"
   ]
  }
 ],
 "metadata": {
  "kernelspec": {
   "display_name": "learn-env",
   "language": "python",
   "name": "python3"
  },
  "language_info": {
   "codemirror_mode": {
    "name": "ipython",
    "version": 3
   },
   "file_extension": ".py",
   "mimetype": "text/x-python",
   "name": "python",
   "nbconvert_exporter": "python",
   "pygments_lexer": "ipython3",
   "version": "3.10.13"
  }
 },
 "nbformat": 4,
 "nbformat_minor": 2
}
