{
 "cells": [
  {
   "cell_type": "code",
   "execution_count": null,
   "metadata": {},
   "outputs": [],
   "source": [
    "#importing liblaries\n",
    "import pandas as pd\n",
    "import numpy as np\n",
    "from sklearn import linear_model\n",
    "from sklearn.linear_model import LinearRegression\n",
    "import seaborn as sns\n",
    "import matplotlib.pyplot as plt\n",
    "from sklearn.model_selection import train_test_split\n",
    "from sklearn.preprocessing import LabelEncoder, OneHotEncoder\n",
    "from sklearn.compose import ColumnTransformer\n",
    "from sklearn.linear_model import LogisticRegression\n",
    "from sklearn.metrics import accuracy_score\n",
    "from sklearn.metrics import accuracy_score, precision_score, recall_score, f1_score, confusion_matrix\n",
    "from sklearn.tree import DecisionTreeClassifier\n",
    "from sklearn.ensemble import RandomForestClassifier, AdaBoostClassifier, GradientBoostingClassifier\n",
    "from sklearn.naive_bayes import GaussianNB\n"
   ]
  },
  {
   "cell_type": "markdown",
   "metadata": {},
   "source": [
    "DATA UNDERSTANDING"
   ]
  },
  {
   "cell_type": "code",
   "execution_count": null,
   "metadata": {},
   "outputs": [],
   "source": [
    "file_path = \"C:\\\\Users\\\\HP\\\\Desktop\\\\terry dtops data\\\\Terry_Stops_20240301.csv\"\n",
    "df = pd.read_csv(file_path)\n",
    "\n",
    "df"
   ]
  },
  {
   "cell_type": "code",
   "execution_count": null,
   "metadata": {},
   "outputs": [],
   "source": [
    "df.head()"
   ]
  },
  {
   "cell_type": "code",
   "execution_count": null,
   "metadata": {},
   "outputs": [],
   "source": [
    "df.dtypes"
   ]
  },
  {
   "cell_type": "code",
   "execution_count": null,
   "metadata": {},
   "outputs": [],
   "source": [
    "df.columns"
   ]
  },
  {
   "cell_type": "code",
   "execution_count": null,
   "metadata": {},
   "outputs": [],
   "source": [
    "# Iterating over columns to identify categorical variables\n",
    "for column in df.columns:\n",
    "    if df[column].dtype == 'object':\n",
    "        unique_values = df[column].unique()\n",
    "        print(f\"Unique values for {column}: {unique_values}\")"
   ]
  },
  {
   "cell_type": "code",
   "execution_count": null,
   "metadata": {},
   "outputs": [],
   "source": [
    "df.describe()"
   ]
  },
  {
   "cell_type": "code",
   "execution_count": null,
   "metadata": {},
   "outputs": [],
   "source": [
    "#checking for null values\n",
    "missing_values = df.isnull().sum()\n",
    "missing_values"
   ]
  },
  {
   "cell_type": "code",
   "execution_count": null,
   "metadata": {},
   "outputs": [],
   "source": [
    "# Checking for NaN values in the DataFrame\n",
    "nan_values = df.isna().sum()\n",
    "\n",
    "# Display columns with NaN values and their respective counts\n",
    "print(\"Columns with NaN values:\")\n",
    "print(nan_values[nan_values > 0])\n"
   ]
  },
  {
   "cell_type": "markdown",
   "metadata": {},
   "source": [
    "### Feature engineering "
   ]
  },
  {
   "cell_type": "code",
   "execution_count": null,
   "metadata": {},
   "outputs": [],
   "source": [
    "\n",
    "# Creating a new feature indicating whether a weapon was involved in the stop\n",
    "df['Weapon Involved'] = df['Weapon Type'].notnull().astype(int)\n",
    "\n",
    "\n",
    "# Creating a new feature representing the geographical area of the stop by combining \"Precinct\", \"Sector\", and \"Beat\"\n",
    "df['Geographical Area'] = df['Precinct'] + '-' + df['Sector'] + '-' + df['Beat']\n",
    "\n",
    "print(df.head())\n"
   ]
  },
  {
   "cell_type": "code",
   "execution_count": null,
   "metadata": {},
   "outputs": [],
   "source": [
    "df.head()"
   ]
  },
  {
   "cell_type": "code",
   "execution_count": null,
   "metadata": {},
   "outputs": [],
   "source": [
    "\n",
    "#interaction terms between officers race and call type\n",
    "df['Race_CallType'] = df['Officer Race'] + '_' + df['Call Type']\n",
    "\n",
    "print(df.head())\n"
   ]
  },
  {
   "cell_type": "code",
   "execution_count": null,
   "metadata": {},
   "outputs": [],
   "source": [
    "df.head()"
   ]
  },
  {
   "cell_type": "markdown",
   "metadata": {},
   "source": [
    "### Data Analysis and exploration"
   ]
  },
  {
   "cell_type": "markdown",
   "metadata": {},
   "source": [
    "Getting the relevant collumns for my analysis"
   ]
  },
  {
   "cell_type": "code",
   "execution_count": null,
   "metadata": {},
   "outputs": [],
   "source": [
    "\n",
    "selected_columns = ['Officer Race', 'Subject Perceived Race', 'Stop Resolution', 'Geographical Area','Weapon Involved']\n",
    "race_relationship_data = df[selected_columns]\n",
    "\n",
    "race_relationship_data.head()"
   ]
  },
  {
   "cell_type": "code",
   "execution_count": 43,
   "metadata": {},
   "outputs": [
    {
     "data": {
      "text/plain": [
       "Officer Race              object\n",
       "Subject Perceived Race    object\n",
       "Stop Resolution           object\n",
       "Geographical Area         object\n",
       "Weapon Involved            int32\n",
       "dtype: object"
      ]
     },
     "execution_count": 43,
     "metadata": {},
     "output_type": "execute_result"
    }
   ],
   "source": [
    "race_relationship_data.dtypes"
   ]
  },
  {
   "cell_type": "markdown",
   "metadata": {},
   "source": [
    "### Race composition for officers and subject involved"
   ]
  },
  {
   "cell_type": "code",
   "execution_count": null,
   "metadata": {},
   "outputs": [],
   "source": [
    "race_counts = race_relationship_data['Officer Race'].value_counts()\n",
    "\n",
    "# Plotting the race composition\n",
    "plt.figure(figsize=(8, 6))\n",
    "sns.barplot(x=race_counts.index, y=race_counts.values, palette='viridis')\n",
    "plt.title('Race Composition of Officers')\n",
    "plt.xlabel('Officer Race')\n",
    "plt.ylabel('Count')\n",
    "plt.xticks(rotation=45, ha='right')  \n",
    "plt.tight_layout()  \n",
    "plt.show()\n"
   ]
  },
  {
   "cell_type": "code",
   "execution_count": null,
   "metadata": {},
   "outputs": [],
   "source": [
    "# Plotting the distribution of subject perceived race with rotated labels\n",
    "plt.figure(figsize=(10, 6))\n",
    "sns.countplot(x='Subject Perceived Race', data=race_relationship_data, palette='viridis')\n",
    "plt.title('Distribution of Subject Perceived Race')\n",
    "plt.xlabel('Subject Perceived Race')\n",
    "plt.ylabel('Count')\n",
    "plt.xticks(rotation=90)  \n",
    "plt.tight_layout()  \n",
    "plt.show()"
   ]
  },
  {
   "cell_type": "markdown",
   "metadata": {},
   "source": [
    "### Relationship between office and subject by race"
   ]
  },
  {
   "cell_type": "code",
   "execution_count": null,
   "metadata": {},
   "outputs": [],
   "source": [
    "\n",
    "# i'm Creating a pivot table to count occurrences of each combination of races\n",
    "pivot_table = race_relationship_data.pivot_table(index='Officer Race', columns='Subject Perceived Race', aggfunc='size', fill_value=0)\n",
    "\n",
    "# Plotting the heatmap\n",
    "plt.figure(figsize=(10, 6))\n",
    "sns.heatmap(pivot_table, annot=True, fmt='d', cmap='viridis')\n",
    "plt.title('Relationship between Officer Race and Subject Perceived Race')\n",
    "plt.xlabel('Subject Perceived Race')\n",
    "plt.ylabel('Officer Race')\n",
    "plt.xticks(rotation=45, ha='right')  \n",
    "plt.yticks(rotation=0, va='center')  \n",
    "plt.tight_layout()  \n",
    "plt.show()"
   ]
  },
  {
   "cell_type": "markdown",
   "metadata": {},
   "source": [
    "## Hypothesis Testing: Relationship Between Officer's Race and Stop Resolution\n",
    "\n",
    "### Hypotheses:\n",
    "- **Null Hypothesis (H0):** There is no association between the officer's race and the stop resolution.\n",
    "- **Alternative Hypothesis (H1):** There is an association between the officer's race and the stop resolution.\n",
    "\n",
    "### Finding:\n",
    "Based on the small p-value obtained from the chi-square test (much smaller than the significance level of 0.05), we reject the null hypothesis in favor of the alternative hypothesis, indicating that there is indeed a significant association between the officer's race and the stop resolution.\n",
    "This analysis suggests that the type of stop resolution is not independent of the officer's race, indicating potential biases or underlying factors influencing the stop resolution based on the officer's race."
   ]
  },
  {
   "cell_type": "code",
   "execution_count": null,
   "metadata": {},
   "outputs": [],
   "source": [
    "from scipy.stats import chi2_contingency\n",
    "\n",
    "# Creating a contingency table\n",
    "contingency_table = pd.crosstab(race_relationship_data['Officer Race'], race_relationship_data['Stop Resolution'])\n",
    "\n",
    "print(\"Contingency Table:\")\n",
    "print(contingency_table)\n",
    "\n",
    "# Calculating chi-square statistic and p-value\n",
    "chi2, p, _, _ = chi2_contingency(contingency_table)\n",
    "print(\"\\nChi-square Statistic:\", chi2)\n",
    "print(\"P-value:\", p)"
   ]
  },
  {
   "cell_type": "markdown",
   "metadata": {},
   "source": [
    "contingency table visualization"
   ]
  },
  {
   "cell_type": "code",
   "execution_count": null,
   "metadata": {},
   "outputs": [],
   "source": [
    "\n",
    "# Define the contingency table\n",
    "contingency_table = [[79, 0, 148, 113, 5],\n",
    "                     [667, 8, 1368, 666, 28],\n",
    "                     [494, 10, 1240, 610, 23],\n",
    "                     [927, 19, 2212, 644, 33],\n",
    "                     [111, 2, 239, 175, 5],\n",
    "                     [629, 16, 1278, 755, 33],\n",
    "                     [998, 18, 2039, 843, 37],\n",
    "                     [21, 1, 69, 9, 0],\n",
    "                     [10519, 140, 20695, 10678, 562]]\n",
    "\n",
    "# Defining officer races and stop resolutions\n",
    "officer_races = ['American Indian/Alaska Native', 'Asian', 'Black or African American', \n",
    "                 'Hispanic or Latino', 'Nat Hawaiian/Oth Pac Islander', 'Not Specified', \n",
    "                 'Two or More Races', 'Unknown', 'White']\n",
    "stop_resolutions = ['Arrest', 'Citation / Infraction', 'Field Contact', \n",
    "                    'Offense Report', 'Referred for Prosecution']\n",
    "\n",
    "# Creating a heatmap\n",
    "plt.figure(figsize=(10, 8))\n",
    "sns.heatmap(contingency_table, annot=True, cmap='Blues', fmt='d',\n",
    "            xticklabels=stop_resolutions, yticklabels=officer_races, cbar=True)\n",
    "plt.title('Contingency Table: Officer Race vs Stop Resolution')\n",
    "plt.xlabel('Stop Resolution')\n",
    "plt.ylabel('Officer Race')\n",
    "plt.show()\n"
   ]
  },
  {
   "cell_type": "markdown",
   "metadata": {},
   "source": [
    "### Stop resolutions in randomly selected areas"
   ]
  },
  {
   "cell_type": "code",
   "execution_count": null,
   "metadata": {},
   "outputs": [],
   "source": [
    "# Select random areas\n",
    "random_areas = df['Geographical Area'].sample(n=11, random_state=42)  # Change n to the number of random areas you want\n",
    "\n",
    "# Filter DataFrame to include only randomly selected areas\n",
    "df_random_areas = df[df['Geographical Area'].isin(random_areas)]\n",
    "\n",
    "# Plotting\n",
    "plt.figure(figsize=(10, 6))\n",
    "sns.countplot(data=df_random_areas, x='Geographical Area', hue='Stop Resolution')\n",
    "plt.title('Stop Resolutions in Randomly Selected Geographical Areas')\n",
    "plt.xlabel('Geographical Area')\n",
    "plt.ylabel('Count')\n",
    "plt.legend(title='Stop Resolution')\n",
    "plt.xticks(rotation=45, ha='right')\n",
    "plt.show()"
   ]
  },
  {
   "cell_type": "markdown",
   "metadata": {},
   "source": [
    "### stop resolutions with weapons involvement"
   ]
  },
  {
   "cell_type": "code",
   "execution_count": null,
   "metadata": {},
   "outputs": [],
   "source": [
    "# Plotting\n",
    "plt.figure(figsize=(10, 6))\n",
    "sns.countplot(data=df, x='Stop Resolution', hue='Weapon Involved')\n",
    "plt.title('Stop Resolutions with Weapon Involvement')\n",
    "plt.xlabel('Stop Resolution')\n",
    "plt.ylabel('Count')\n",
    "plt.legend(title='Weapon Involved', labels=['No', 'Yes'])\n",
    "plt.xticks(rotation=45, ha='right')\n",
    "plt.show()"
   ]
  },
  {
   "cell_type": "code",
   "execution_count": null,
   "metadata": {},
   "outputs": [],
   "source": [
    "contingency_table = pd.crosstab(race_relationship_data['Stop Resolution'], [race_relationship_data['Officer Race'], race_relationship_data['Subject Perceived Race'], race_relationship_data['Geographical Area']])\n",
    "\n",
    "# Perform chi-square test\n",
    "chi2, p, dof, expected = chi2_contingency(contingency_table)\n",
    "\n",
    "# Display results\n",
    "print(\"Contingency Table:\")\n",
    "print(contingency_table)\n",
    "print(\"\\nChi-square Statistic:\", chi2)\n",
    "print(\"P-value:\", p)"
   ]
  },
  {
   "cell_type": "code",
   "execution_count": null,
   "metadata": {},
   "outputs": [],
   "source": [
    "import pandas as pd\n",
    "import matplotlib.pyplot as plt\n",
    "\n",
    "# contingency table data\n",
    "contingency_table = {\n",
    "    'Stop Resolution': ['Arrest', 'Citation / Infraction', 'Field Contact', 'Offense Report', 'Referred for Prosecution'],\n",
    "    'American Indian/Alaska Native': [79, 0, 148, 113, 5],\n",
    "    'Asian': [667, 8, 1368, 666, 28],\n",
    "    'Black or African American': [494, 10, 1240, 610, 23],\n",
    "    'Hispanic or Latino': [927, 19, 2212, 644, 33],\n",
    "    'Nat Hawaiian/Oth Pac Islander': [111, 2, 239, 175, 5],\n",
    "    'Not Specified': [629, 16, 1278, 755, 33],\n",
    "    'Two or More Races': [998, 18, 2039, 843, 37],\n",
    "    'Unknown': [21, 1, 69, 9, 0],\n",
    "    'White': [10519, 140, 20695, 10678, 562]\n",
    "}\n",
    "\n",
    "# Creating DataFrame\n",
    "df_contingency = pd.DataFrame(contingency_table)\n",
    "df_contingency.set_index('Stop Resolution', inplace=True)\n",
    "\n",
    "# Plotting\n",
    "plt.figure(figsize=(12, 8))\n",
    "df_contingency.plot(kind='bar', stacked=True, figsize=(12,8))\n",
    "plt.title('Stop Resolutions by Officer Race')\n",
    "plt.xlabel('Stop Resolution')\n",
    "plt.ylabel('Count')\n",
    "plt.xticks(rotation=45)\n",
    "plt.legend(title='Officer Race')\n",
    "plt.show()\n"
   ]
  },
  {
   "cell_type": "markdown",
   "metadata": {},
   "source": [
    "### BASELINE MODELLING"
   ]
  },
  {
   "cell_type": "code",
   "execution_count": 45,
   "metadata": {},
   "outputs": [],
   "source": [
    "# Performing one-hot encoding for categorical variables\n",
    "categorical_cols = ['Officer Race', 'Subject Perceived Race', 'Geographical Area']\n",
    "data_encoded = pd.get_dummies(race_relationship_data, columns=categorical_cols, drop_first=True)\n",
    "\n",
    "# Splitting the data into features and target variable\n",
    "X = data_encoded.drop('Stop Resolution', axis=1)\n",
    "y = data_encoded['Stop Resolution']\n",
    "\n",
    "# Splitting the data into training and test sets\n",
    "X_train, X_test, y_train, y_test = train_test_split(X, y, test_size=0.2, random_state=42)"
   ]
  },
  {
   "cell_type": "code",
   "execution_count": null,
   "metadata": {},
   "outputs": [],
   "source": [
    "X_train"
   ]
  },
  {
   "cell_type": "code",
   "execution_count": null,
   "metadata": {},
   "outputs": [],
   "source": [
    "X_test"
   ]
  },
  {
   "cell_type": "code",
   "execution_count": null,
   "metadata": {},
   "outputs": [],
   "source": [
    "y_train"
   ]
  },
  {
   "cell_type": "code",
   "execution_count": null,
   "metadata": {},
   "outputs": [],
   "source": [
    "y_test"
   ]
  },
  {
   "cell_type": "markdown",
   "metadata": {},
   "source": [
    "### MODELLING AND MODEL EVALUATION"
   ]
  },
  {
   "cell_type": "code",
   "execution_count": 53,
   "metadata": {},
   "outputs": [
    {
     "name": "stdout",
     "output_type": "stream",
     "text": [
      "Training Accuracy: 0.6383630524803515\n",
      "Testing Accuracy: 0.6368936961297955\n",
      "\n",
      "Classification Report:\n",
      "                          precision    recall  f1-score   support\n",
      "\n",
      "                  Arrest       0.41      0.01      0.02      2885\n",
      "   Citation / Infraction       1.00      0.00      0.00        50\n",
      "           Field Contact       0.72      0.88      0.79      5854\n",
      "          Offense Report       0.51      0.82      0.63      2896\n",
      "Referred for Prosecution       1.00      0.00      0.00       149\n",
      "\n",
      "                accuracy                           0.64     11834\n",
      "               macro avg       0.73      0.34      0.29     11834\n",
      "            weighted avg       0.60      0.64      0.55     11834\n",
      "\n"
     ]
    }
   ],
   "source": [
    "from sklearn.linear_model import LogisticRegression\n",
    "from sklearn.metrics import accuracy_score, classification_report\n",
    "\n",
    "# Instantiating logistic regression model\n",
    "logistic_model = LogisticRegression(max_iter=1000, random_state=42)\n",
    "\n",
    "logistic_model.fit(X_train, y_train)\n",
    "\n",
    "# predictions on the training set\n",
    "train_preds = logistic_model.predict(X_train)\n",
    "\n",
    "# predictions on the testing set\n",
    "test_preds = logistic_model.predict(X_test)\n",
    "\n",
    "# model evaluation\n",
    "train_accuracy = accuracy_score(y_train, train_preds)\n",
    "test_accuracy = accuracy_score(y_test, test_preds)\n",
    "\n",
    "print(\"Training Accuracy:\", train_accuracy)\n",
    "print(\"Testing Accuracy:\", test_accuracy)\n",
    "\n",
    "# The Classifications report/result\n",
    "print(\"\\nClassification Report:\")\n",
    "print(classification_report(y_test, test_preds, zero_division=1))\n",
    "\n"
   ]
  },
  {
   "cell_type": "code",
   "execution_count": 54,
   "metadata": {},
   "outputs": [
    {
     "name": "stdout",
     "output_type": "stream",
     "text": [
      "Model: Decision Tree\n",
      "Testing Accuracy: 0.6222748014196383\n",
      "Classification Report:\n",
      "                          precision    recall  f1-score   support\n",
      "\n",
      "                  Arrest       0.37      0.16      0.23      2885\n",
      "   Citation / Infraction       0.00      0.00      0.00        50\n",
      "           Field Contact       0.72      0.84      0.77      5854\n",
      "          Offense Report       0.53      0.68      0.60      2896\n",
      "Referred for Prosecution       0.25      0.01      0.01       149\n",
      "\n",
      "                accuracy                           0.62     11834\n",
      "               macro avg       0.37      0.34      0.32     11834\n",
      "            weighted avg       0.58      0.62      0.59     11834\n",
      "\n",
      "\n",
      "Model: Random Forest\n",
      "Testing Accuracy: 0.624049349332432\n",
      "Classification Report:\n",
      "                          precision    recall  f1-score   support\n",
      "\n",
      "                  Arrest       0.37      0.14      0.20      2885\n",
      "   Citation / Infraction       0.00      0.00      0.00        50\n",
      "           Field Contact       0.72      0.85      0.78      5854\n",
      "          Offense Report       0.53      0.70      0.60      2896\n",
      "Referred for Prosecution       0.08      0.01      0.01       149\n",
      "\n",
      "                accuracy                           0.62     11834\n",
      "               macro avg       0.34      0.34      0.32     11834\n",
      "            weighted avg       0.58      0.62      0.58     11834\n",
      "\n",
      "\n"
     ]
    },
    {
     "name": "stderr",
     "output_type": "stream",
     "text": [
      "c:\\Users\\HP\\anaconda3\\envs\\learn-env\\lib\\site-packages\\sklearn\\ensemble\\_weight_boosting.py:519: FutureWarning: The SAMME.R algorithm (the default) is deprecated and will be removed in 1.6. Use the SAMME algorithm to circumvent this warning.\n",
      "  warnings.warn(\n",
      "c:\\Users\\HP\\anaconda3\\envs\\learn-env\\lib\\site-packages\\sklearn\\metrics\\_classification.py:1509: UndefinedMetricWarning: Precision is ill-defined and being set to 0.0 in labels with no predicted samples. Use `zero_division` parameter to control this behavior.\n",
      "  _warn_prf(average, modifier, f\"{metric.capitalize()} is\", len(result))\n",
      "c:\\Users\\HP\\anaconda3\\envs\\learn-env\\lib\\site-packages\\sklearn\\metrics\\_classification.py:1509: UndefinedMetricWarning: Precision is ill-defined and being set to 0.0 in labels with no predicted samples. Use `zero_division` parameter to control this behavior.\n",
      "  _warn_prf(average, modifier, f\"{metric.capitalize()} is\", len(result))\n",
      "c:\\Users\\HP\\anaconda3\\envs\\learn-env\\lib\\site-packages\\sklearn\\metrics\\_classification.py:1509: UndefinedMetricWarning: Precision is ill-defined and being set to 0.0 in labels with no predicted samples. Use `zero_division` parameter to control this behavior.\n",
      "  _warn_prf(average, modifier, f\"{metric.capitalize()} is\", len(result))\n"
     ]
    },
    {
     "name": "stdout",
     "output_type": "stream",
     "text": [
      "Model: AdaBoost\n",
      "Testing Accuracy: 0.6095149569038364\n",
      "Classification Report:\n",
      "                          precision    recall  f1-score   support\n",
      "\n",
      "                  Arrest       0.38      0.00      0.00      2885\n",
      "   Citation / Infraction       0.00      0.00      0.00        50\n",
      "           Field Contact       0.66      0.90      0.76      5854\n",
      "          Offense Report       0.51      0.67      0.58      2896\n",
      "Referred for Prosecution       0.00      0.00      0.00       149\n",
      "\n",
      "                accuracy                           0.61     11834\n",
      "               macro avg       0.31      0.31      0.27     11834\n",
      "            weighted avg       0.54      0.61      0.52     11834\n",
      "\n",
      "\n"
     ]
    },
    {
     "name": "stderr",
     "output_type": "stream",
     "text": [
      "c:\\Users\\HP\\anaconda3\\envs\\learn-env\\lib\\site-packages\\sklearn\\metrics\\_classification.py:1509: UndefinedMetricWarning: Precision is ill-defined and being set to 0.0 in labels with no predicted samples. Use `zero_division` parameter to control this behavior.\n",
      "  _warn_prf(average, modifier, f\"{metric.capitalize()} is\", len(result))\n",
      "c:\\Users\\HP\\anaconda3\\envs\\learn-env\\lib\\site-packages\\sklearn\\metrics\\_classification.py:1509: UndefinedMetricWarning: Precision is ill-defined and being set to 0.0 in labels with no predicted samples. Use `zero_division` parameter to control this behavior.\n",
      "  _warn_prf(average, modifier, f\"{metric.capitalize()} is\", len(result))\n",
      "c:\\Users\\HP\\anaconda3\\envs\\learn-env\\lib\\site-packages\\sklearn\\metrics\\_classification.py:1509: UndefinedMetricWarning: Precision is ill-defined and being set to 0.0 in labels with no predicted samples. Use `zero_division` parameter to control this behavior.\n",
      "  _warn_prf(average, modifier, f\"{metric.capitalize()} is\", len(result))\n"
     ]
    },
    {
     "name": "stdout",
     "output_type": "stream",
     "text": [
      "Model: Gradient Boosting\n",
      "Testing Accuracy: 0.6085009295250972\n",
      "Classification Report:\n",
      "                          precision    recall  f1-score   support\n",
      "\n",
      "                  Arrest       0.40      0.04      0.07      2885\n",
      "   Citation / Infraction       0.00      0.00      0.00        50\n",
      "           Field Contact       0.64      0.91      0.75      5854\n",
      "          Offense Report       0.54      0.61      0.57      2896\n",
      "Referred for Prosecution       0.00      0.00      0.00       149\n",
      "\n",
      "                accuracy                           0.61     11834\n",
      "               macro avg       0.32      0.31      0.28     11834\n",
      "            weighted avg       0.55      0.61      0.53     11834\n",
      "\n",
      "\n",
      "Model: Naive Bayes\n",
      "Testing Accuracy: 0.012168328544870712\n",
      "Classification Report:\n",
      "                          precision    recall  f1-score   support\n",
      "\n",
      "                  Arrest       0.00      0.00      0.00      2885\n",
      "   Citation / Infraction       0.00      0.90      0.01        50\n",
      "           Field Contact       0.79      0.00      0.01      5854\n",
      "          Offense Report       0.23      0.02      0.03      2896\n",
      "Referred for Prosecution       0.02      0.18      0.04       149\n",
      "\n",
      "                accuracy                           0.01     11834\n",
      "               macro avg       0.21      0.22      0.02     11834\n",
      "            weighted avg       0.44      0.01      0.01     11834\n",
      "\n",
      "\n"
     ]
    }
   ],
   "source": [
    "from sklearn.tree import DecisionTreeClassifier\n",
    "from sklearn.ensemble import RandomForestClassifier, AdaBoostClassifier, GradientBoostingClassifier\n",
    "from sklearn.naive_bayes import GaussianNB\n",
    "from sklearn.metrics import accuracy_score, classification_report\n",
    "\n",
    "# model dicts.\n",
    "models = {\n",
    "    'Decision Tree': DecisionTreeClassifier(random_state=42),\n",
    "    'Random Forest': RandomForestClassifier(random_state=42),\n",
    "    'AdaBoost': AdaBoostClassifier(random_state=42),\n",
    "    'Gradient Boosting': GradientBoostingClassifier(random_state=42),\n",
    "    'Naive Bayes': GaussianNB()\n",
    "}\n",
    "\n",
    "for name, model in models.items():\n",
    "    # Training the model\n",
    "    model.fit(X_train, y_train)\n",
    "    \n",
    "    # Predictions on the test set\n",
    "    test_preds = model.predict(X_test)\n",
    "    \n",
    "    # model evaluation\n",
    "    test_accuracy = accuracy_score(y_test, test_preds)\n",
    "    \n",
    "    # Classification report\n",
    "    report = classification_report(y_test, test_preds)\n",
    "    \n",
    "    print(f\"Model: {name}\")\n",
    "    print(f\"Testing Accuracy: {test_accuracy}\")\n",
    "    print(\"Classification Report:\")\n",
    "    print(report)\n",
    "    print()\n"
   ]
  },
  {
   "cell_type": "markdown",
   "metadata": {},
   "source": [
    "### CROSS-VALIDATION\n",
    "performing cross-validation to ensure that the model performance estimates are robust and not overly optimistic."
   ]
  },
  {
   "cell_type": "markdown",
   "metadata": {},
   "source": [
    "Random Forest has the highest mean cross-validation score, indicating better performance on average compared to the other models. Additionally, Random Forest has the lowest standard deviation among the models, suggesting more consistent performance across different folds. Therefore, based on these cross-validation results, Random Forest appears to be the best model among the ones tested."
   ]
  },
  {
   "cell_type": "code",
   "execution_count": 56,
   "metadata": {},
   "outputs": [
    {
     "name": "stdout",
     "output_type": "stream",
     "text": [
      "Model: Decision Tree\n",
      "Cross-validation scores: [0.61381641 0.62121052 0.61831819 0.6206423  0.6206423 ]\n",
      "Mean CV score: 0.6189259449200153\n",
      "Standard deviation of CV scores: 0.002741812863843218\n",
      "\n",
      "Model: Random Forest\n",
      "Cross-validation scores: [0.6176191  0.62448505 0.62159307 0.62190999 0.62507923]\n",
      "Mean CV score: 0.6221372891580127\n",
      "Standard deviation of CV scores: 0.002643062918160272\n",
      "\n"
     ]
    },
    {
     "name": "stderr",
     "output_type": "stream",
     "text": [
      "c:\\Users\\HP\\anaconda3\\envs\\learn-env\\lib\\site-packages\\sklearn\\ensemble\\_weight_boosting.py:519: FutureWarning: The SAMME.R algorithm (the default) is deprecated and will be removed in 1.6. Use the SAMME algorithm to circumvent this warning.\n",
      "  warnings.warn(\n",
      "c:\\Users\\HP\\anaconda3\\envs\\learn-env\\lib\\site-packages\\sklearn\\ensemble\\_weight_boosting.py:519: FutureWarning: The SAMME.R algorithm (the default) is deprecated and will be removed in 1.6. Use the SAMME algorithm to circumvent this warning.\n",
      "  warnings.warn(\n",
      "c:\\Users\\HP\\anaconda3\\envs\\learn-env\\lib\\site-packages\\sklearn\\ensemble\\_weight_boosting.py:519: FutureWarning: The SAMME.R algorithm (the default) is deprecated and will be removed in 1.6. Use the SAMME algorithm to circumvent this warning.\n",
      "  warnings.warn(\n",
      "c:\\Users\\HP\\anaconda3\\envs\\learn-env\\lib\\site-packages\\sklearn\\ensemble\\_weight_boosting.py:519: FutureWarning: The SAMME.R algorithm (the default) is deprecated and will be removed in 1.6. Use the SAMME algorithm to circumvent this warning.\n",
      "  warnings.warn(\n",
      "c:\\Users\\HP\\anaconda3\\envs\\learn-env\\lib\\site-packages\\sklearn\\ensemble\\_weight_boosting.py:519: FutureWarning: The SAMME.R algorithm (the default) is deprecated and will be removed in 1.6. Use the SAMME algorithm to circumvent this warning.\n",
      "  warnings.warn(\n"
     ]
    },
    {
     "name": "stdout",
     "output_type": "stream",
     "text": [
      "Model: AdaBoost\n",
      "Cross-validation scores: [0.60589416 0.60705609 0.5970843  0.60162688 0.60638073]\n",
      "Mean CV score: 0.6036084312223066\n",
      "Standard deviation of CV scores: 0.0037759071676580717\n",
      "\n",
      "Model: Gradient Boosting\n",
      "Cross-validation scores: [0.6099081  0.60726735 0.60616945 0.60542996 0.60891612]\n",
      "Mean CV score: 0.607538196166246\n",
      "Standard deviation of CV scores: 0.0016677300405461746\n",
      "\n"
     ]
    }
   ],
   "source": [
    "from sklearn.model_selection import cross_val_score\n",
    "from sklearn.tree import DecisionTreeClassifier\n",
    "from sklearn.ensemble import RandomForestClassifier, AdaBoostClassifier, GradientBoostingClassifier\n",
    "\n",
    "# models for cross validation\n",
    "models = {\n",
    "    \"Decision Tree\": DecisionTreeClassifier(),\n",
    "    \"Random Forest\": RandomForestClassifier(),\n",
    "    \"AdaBoost\": AdaBoostClassifier(),\n",
    "    \"Gradient Boosting\": GradientBoostingClassifier()\n",
    "}\n",
    "\n",
    "# Performing cross-validation for each model\n",
    "for name, model in models.items():\n",
    "    cv_scores = cross_val_score(model, X_train, y_train, cv=5)\n",
    "    print(f\"Model: {name}\")\n",
    "    print(\"Cross-validation scores:\", cv_scores)\n",
    "    print(\"Mean CV score:\", cv_scores.mean())\n",
    "    print(\"Standard deviation of CV scores:\", cv_scores.std())\n",
    "    print()"
   ]
  },
  {
   "cell_type": "markdown",
   "metadata": {},
   "source": [
    "checking for overfitting"
   ]
  },
  {
   "cell_type": "code",
   "execution_count": 55,
   "metadata": {},
   "outputs": [
    {
     "data": {
      "image/png": "[encoded data removed]",
      "text/plain": [
       "<Figure size 640x480 with 1 Axes>"
      ]
     },
     "metadata": {},
     "output_type": "display_data"
    }
   ],
   "source": [
    "import matplotlib.pyplot as plt\n",
    "from sklearn.model_selection import learning_curve\n",
    "\n",
    "train_sizes, train_scores, test_scores = learning_curve(RandomForestClassifier(), X_train, y_train, cv=5)\n",
    "\n",
    "train_scores_mean = np.mean(train_scores, axis=1)\n",
    "test_scores_mean = np.mean(test_scores, axis=1)\n",
    "\n",
    "plt.plot(train_sizes, train_scores_mean, label='Training accuracy')\n",
    "plt.plot(train_sizes, test_scores_mean, label='Testing accuracy')\n",
    "plt.xlabel('Training examples')\n",
    "plt.ylabel('Accuracy')\n",
    "plt.title('Learning curves')\n",
    "plt.legend()\n",
    "plt.show()\n"
   ]
  }
 ],
 "metadata": {
  "kernelspec": {
   "display_name": "learn-env",
   "language": "python",
   "name": "python3"
  },
  "language_info": {
   "codemirror_mode": {
    "name": "ipython",
    "version": 3
   },
   "file_extension": ".py",
   "mimetype": "text/x-python",
   "name": "python",
   "nbconvert_exporter": "python",
   "pygments_lexer": "ipython3",
   "version": "3.10.13"
  }
 },
 "nbformat": 4,
 "nbformat_minor": 2
}
