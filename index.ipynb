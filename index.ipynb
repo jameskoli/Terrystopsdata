{
 "cells": [
  {
   "cell_type": "code",
   "execution_count": null,
   "metadata": {},
   "outputs": [],
   "source": [
    "#importing liblaries\n",
    "import pandas as pd\n",
    "import numpy as np\n",
    "from sklearn import linear_model\n",
    "from sklearn.linear_model import LinearRegression\n",
    "import seaborn as sns\n",
    "import matplotlib.pyplot as plt\n",
    "from sklearn.model_selection import train_test_split\n",
    "from sklearn.preprocessing import LabelEncoder, OneHotEncoder\n",
    "from sklearn.compose import ColumnTransformer\n",
    "from sklearn.linear_model import LogisticRegression\n",
    "from sklearn.metrics import accuracy_score\n",
    "from sklearn.metrics import accuracy_score, precision_score, recall_score, f1_score, confusion_matrix\n",
    "from sklearn.tree import DecisionTreeClassifier\n",
    "from sklearn.ensemble import RandomForestClassifier, AdaBoostClassifier, GradientBoostingClassifier\n",
    "from sklearn.naive_bayes import GaussianNB\n"
   ]
  },
  {
   "cell_type": "markdown",
   "metadata": {},
   "source": [
    "DATA UNDERSTANDING"
   ]
  },
  {
   "cell_type": "code",
   "execution_count": null,
   "metadata": {},
   "outputs": [],
   "source": [
    "file_path = \"C:\\\\Users\\\\HP\\\\Desktop\\\\terry dtops data\\\\Terry_Stops_20240301.csv\"\n",
    "df = pd.read_csv(file_path)\n",
    "\n",
    "df"
   ]
  },
  {
   "cell_type": "code",
   "execution_count": null,
   "metadata": {},
   "outputs": [],
   "source": [
    "df.head()"
   ]
  },
  {
   "cell_type": "code",
   "execution_count": null,
   "metadata": {},
   "outputs": [],
   "source": [
    "df.dtypes"
   ]
  },
  {
   "cell_type": "code",
   "execution_count": null,
   "metadata": {},
   "outputs": [],
   "source": [
    "df.columns"
   ]
  },
  {
   "cell_type": "code",
   "execution_count": null,
   "metadata": {},
   "outputs": [],
   "source": [
    "# Iterating over columns to identify categorical variables\n",
    "for column in df.columns:\n",
    "    if df[column].dtype == 'object':\n",
    "        unique_values = df[column].unique()\n",
    "        print(f\"Unique values for {column}: {unique_values}\")"
   ]
  },
  {
   "cell_type": "code",
   "execution_count": null,
   "metadata": {},
   "outputs": [],
   "source": [
    "df.describe()"
   ]
  },
  {
   "cell_type": "code",
   "execution_count": null,
   "metadata": {},
   "outputs": [],
   "source": [
    "#checking for null values\n",
    "missing_values = df.isnull().sum()\n",
    "missing_values"
   ]
  },
  {
   "cell_type": "code",
   "execution_count": null,
   "metadata": {},
   "outputs": [],
   "source": [
    "# Checking for NaN values in the DataFrame\n",
    "nan_values = df.isna().sum()\n",
    "\n",
    "# Display columns with NaN values and their respective counts\n",
    "print(\"Columns with NaN values:\")\n",
    "print(nan_values[nan_values > 0])\n"
   ]
  },
  {
   "cell_type": "markdown",
   "metadata": {},
   "source": [
    "### Feature engineering "
   ]
  },
  {
   "cell_type": "code",
   "execution_count": null,
   "metadata": {},
   "outputs": [],
   "source": [
    "\n",
    "# Creating a new feature indicating whether a weapon was involved in the stop\n",
    "df['Weapon Involved'] = df['Weapon Type'].notnull().astype(int)\n",
    "\n",
    "\n",
    "# Creating a new feature representing the geographical area of the stop by combining \"Precinct\", \"Sector\", and \"Beat\"\n",
    "df['Geographical Area'] = df['Precinct'] + '-' + df['Sector'] + '-' + df['Beat']\n",
    "\n",
    "print(df.head())\n"
   ]
  },
  {
   "cell_type": "code",
   "execution_count": null,
   "metadata": {},
   "outputs": [],
   "source": [
    "df.head()"
   ]
  },
  {
   "cell_type": "code",
   "execution_count": null,
   "metadata": {},
   "outputs": [],
   "source": [
    "\n",
    "#interaction terms between officers race and call type\n",
    "df['Race_CallType'] = df['Officer Race'] + '_' + df['Call Type']\n",
    "\n",
    "print(df.head())\n"
   ]
  },
  {
   "cell_type": "code",
   "execution_count": null,
   "metadata": {},
   "outputs": [],
   "source": [
    "df.head()"
   ]
  },
  {
   "cell_type": "markdown",
   "metadata": {},
   "source": [
    "### Data Analysis and exploration"
   ]
  },
  {
   "cell_type": "markdown",
   "metadata": {},
   "source": [
    "Getting the relevant collumns for my analysis"
   ]
  },
  {
   "cell_type": "code",
   "execution_count": null,
   "metadata": {},
   "outputs": [],
   "source": [
    "\n",
    "selected_columns = ['Officer Race', 'Subject Perceived Race', 'Stop Resolution', 'Geographical Area','Weapon Involved']\n",
    "race_relationship_data = df[selected_columns]\n",
    "\n",
    "race_relationship_data.head()"
   ]
  },
  {
   "cell_type": "code",
   "execution_count": null,
   "metadata": {},
   "outputs": [],
   "source": [
    "race_relationship_data.dtypes"
   ]
  },
  {
   "cell_type": "markdown",
   "metadata": {},
   "source": [
    "### Race composition for officers and subject involved"
   ]
  },
  {
   "cell_type": "code",
   "execution_count": null,
   "metadata": {},
   "outputs": [],
   "source": [
    "race_counts = race_relationship_data['Officer Race'].value_counts()\n",
    "\n",
    "# Plotting the race composition\n",
    "plt.figure(figsize=(8, 6))\n",
    "sns.barplot(x=race_counts.index, y=race_counts.values, palette='viridis')\n",
    "plt.title('Race Composition of Officers')\n",
    "plt.xlabel('Officer Race')\n",
    "plt.ylabel('Count')\n",
    "plt.xticks(rotation=45, ha='right')  \n",
    "plt.tight_layout()  \n",
    "plt.show()\n"
   ]
  },
  {
   "cell_type": "code",
   "execution_count": null,
   "metadata": {},
   "outputs": [],
   "source": [
    "# Plotting the distribution of subject perceived race with rotated labels\n",
    "plt.figure(figsize=(10, 6))\n",
    "sns.countplot(x='Subject Perceived Race', data=race_relationship_data, palette='viridis')\n",
    "plt.title('Distribution of Subject Perceived Race')\n",
    "plt.xlabel('Subject Perceived Race')\n",
    "plt.ylabel('Count')\n",
    "plt.xticks(rotation=90)  \n",
    "plt.tight_layout()  \n",
    "plt.show()"
   ]
  },
  {
   "cell_type": "markdown",
   "metadata": {},
   "source": [
    "### Relationship between office and subject by race"
   ]
  },
  {
   "cell_type": "code",
   "execution_count": null,
   "metadata": {},
   "outputs": [],
   "source": [
    "\n",
    "# i'm Creating a pivot table to count occurrences of each combination of races\n",
    "pivot_table = race_relationship_data.pivot_table(index='Officer Race', columns='Subject Perceived Race', aggfunc='size', fill_value=0)\n",
    "\n",
    "# Plotting the heatmap\n",
    "plt.figure(figsize=(10, 6))\n",
    "sns.heatmap(pivot_table, annot=True, fmt='d', cmap='viridis')\n",
    "plt.title('Relationship between Officer Race and Subject Perceived Race')\n",
    "plt.xlabel('Subject Perceived Race')\n",
    "plt.ylabel('Officer Race')\n",
    "plt.xticks(rotation=45, ha='right')  \n",
    "plt.yticks(rotation=0, va='center')  \n",
    "plt.tight_layout()  \n",
    "plt.show()"
   ]
  },
  {
   "cell_type": "markdown",
   "metadata": {},
   "source": [
    "## Hypothesis Testing: Relationship Between Officer's Race and Stop Resolution\n",
    "\n",
    "### Hypotheses:\n",
    "- **Null Hypothesis (H0):** There is no association between the officer's race and the stop resolution.\n",
    "- **Alternative Hypothesis (H1):** There is an association between the officer's race and the stop resolution.\n",
    "\n",
    "### Finding:\n",
    "Based on the small p-value obtained from the chi-square test (much smaller than the significance level of 0.05), we reject the null hypothesis in favor of the alternative hypothesis, indicating that there is indeed a significant association between the officer's race and the stop resolution.\n",
    "This analysis suggests that the type of stop resolution is not independent of the officer's race, indicating potential biases or underlying factors influencing the stop resolution based on the officer's race."
   ]
  },
  {
   "cell_type": "code",
   "execution_count": null,
   "metadata": {},
   "outputs": [],
   "source": [
    "from scipy.stats import chi2_contingency\n",
    "\n",
    "# Creating a contingency table\n",
    "contingency_table = pd.crosstab(race_relationship_data['Officer Race'], race_relationship_data['Stop Resolution'])\n",
    "\n",
    "print(\"Contingency Table:\")\n",
    "print(contingency_table)\n",
    "\n",
    "# Calculating chi-square statistic and p-value\n",
    "chi2, p, _, _ = chi2_contingency(contingency_table)\n",
    "print(\"\\nChi-square Statistic:\", chi2)\n",
    "print(\"P-value:\", p)"
   ]
  },
  {
   "cell_type": "markdown",
   "metadata": {},
   "source": [
    "contingency table visualization"
   ]
  },
  {
   "cell_type": "code",
   "execution_count": null,
   "metadata": {},
   "outputs": [],
   "source": [
    "\n",
    "# Define the contingency table\n",
    "contingency_table = [[79, 0, 148, 113, 5],\n",
    "                     [667, 8, 1368, 666, 28],\n",
    "                     [494, 10, 1240, 610, 23],\n",
    "                     [927, 19, 2212, 644, 33],\n",
    "                     [111, 2, 239, 175, 5],\n",
    "                     [629, 16, 1278, 755, 33],\n",
    "                     [998, 18, 2039, 843, 37],\n",
    "                     [21, 1, 69, 9, 0],\n",
    "                     [10519, 140, 20695, 10678, 562]]\n",
    "\n",
    "# Defining officer races and stop resolutions\n",
    "officer_races = ['American Indian/Alaska Native', 'Asian', 'Black or African American', \n",
    "                 'Hispanic or Latino', 'Nat Hawaiian/Oth Pac Islander', 'Not Specified', \n",
    "                 'Two or More Races', 'Unknown', 'White']\n",
    "stop_resolutions = ['Arrest', 'Citation / Infraction', 'Field Contact', \n",
    "                    'Offense Report', 'Referred for Prosecution']\n",
    "\n",
    "# Creating a heatmap\n",
    "plt.figure(figsize=(10, 8))\n",
    "sns.heatmap(contingency_table, annot=True, cmap='Blues', fmt='d',\n",
    "            xticklabels=stop_resolutions, yticklabels=officer_races, cbar=True)\n",
    "plt.title('Contingency Table: Officer Race vs Stop Resolution')\n",
    "plt.xlabel('Stop Resolution')\n",
    "plt.ylabel('Officer Race')\n",
    "plt.show()\n"
   ]
  },
  {
   "cell_type": "markdown",
   "metadata": {},
   "source": [
    "### Stop resolutions in randomly selected areas"
   ]
  },
  {
   "cell_type": "code",
   "execution_count": null,
   "metadata": {},
   "outputs": [],
   "source": [
    "# Select random areas\n",
    "random_areas = df['Geographical Area'].sample(n=11, random_state=42)  # Change n to the number of random areas you want\n",
    "\n",
    "# Filter DataFrame to include only randomly selected areas\n",
    "df_random_areas = df[df['Geographical Area'].isin(random_areas)]\n",
    "\n",
    "# Plotting\n",
    "plt.figure(figsize=(10, 6))\n",
    "sns.countplot(data=df_random_areas, x='Geographical Area', hue='Stop Resolution')\n",
    "plt.title('Stop Resolutions in Randomly Selected Geographical Areas')\n",
    "plt.xlabel('Geographical Area')\n",
    "plt.ylabel('Count')\n",
    "plt.legend(title='Stop Resolution')\n",
    "plt.xticks(rotation=45, ha='right')\n",
    "plt.show()"
   ]
  },
  {
   "cell_type": "markdown",
   "metadata": {},
   "source": [
    "### stop resolutions with weapons involvement"
   ]
  },
  {
   "cell_type": "code",
   "execution_count": null,
   "metadata": {},
   "outputs": [],
   "source": [
    "# Plotting\n",
    "plt.figure(figsize=(10, 6))\n",
    "sns.countplot(data=df, x='Stop Resolution', hue='Weapon Involved')\n",
    "plt.title('Stop Resolutions with Weapon Involvement')\n",
    "plt.xlabel('Stop Resolution')\n",
    "plt.ylabel('Count')\n",
    "plt.legend(title='Weapon Involved', labels=['No', 'Yes'])\n",
    "plt.xticks(rotation=45, ha='right')\n",
    "plt.show()"
   ]
  },
  {
   "cell_type": "code",
   "execution_count": null,
   "metadata": {},
   "outputs": [],
   "source": [
    "contingency_table = pd.crosstab(race_relationship_data['Stop Resolution'], [race_relationship_data['Officer Race'], race_relationship_data['Subject Perceived Race'], race_relationship_data['Geographical Area']])\n",
    "\n",
    "# Perform chi-square test\n",
    "chi2, p, dof, expected = chi2_contingency(contingency_table)\n",
    "\n",
    "# Display results\n",
    "print(\"Contingency Table:\")\n",
    "print(contingency_table)\n",
    "print(\"\\nChi-square Statistic:\", chi2)\n",
    "print(\"P-value:\", p)"
   ]
  },
  {
   "cell_type": "code",
   "execution_count": null,
   "metadata": {},
   "outputs": [],
   "source": [
    "import pandas as pd\n",
    "import matplotlib.pyplot as plt\n",
    "\n",
    "# contingency table data\n",
    "contingency_table = {\n",
    "    'Stop Resolution': ['Arrest', 'Citation / Infraction', 'Field Contact', 'Offense Report', 'Referred for Prosecution'],\n",
    "    'American Indian/Alaska Native': [79, 0, 148, 113, 5],\n",
    "    'Asian': [667, 8, 1368, 666, 28],\n",
    "    'Black or African American': [494, 10, 1240, 610, 23],\n",
    "    'Hispanic or Latino': [927, 19, 2212, 644, 33],\n",
    "    'Nat Hawaiian/Oth Pac Islander': [111, 2, 239, 175, 5],\n",
    "    'Not Specified': [629, 16, 1278, 755, 33],\n",
    "    'Two or More Races': [998, 18, 2039, 843, 37],\n",
    "    'Unknown': [21, 1, 69, 9, 0],\n",
    "    'White': [10519, 140, 20695, 10678, 562]\n",
    "}\n",
    "\n",
    "# Creating DataFrame\n",
    "df_contingency = pd.DataFrame(contingency_table)\n",
    "df_contingency.set_index('Stop Resolution', inplace=True)\n",
    "\n",
    "# Plotting\n",
    "plt.figure(figsize=(12, 8))\n",
    "df_contingency.plot(kind='bar', stacked=True, figsize=(12,8))\n",
    "plt.title('Stop Resolutions by Officer Race')\n",
    "plt.xlabel('Stop Resolution')\n",
    "plt.ylabel('Count')\n",
    "plt.xticks(rotation=45)\n",
    "plt.legend(title='Officer Race')\n",
    "plt.show()\n"
   ]
  },
  {
   "cell_type": "markdown",
   "metadata": {},
   "source": [
    "### BASELINE MODELLING"
   ]
  },
  {
   "cell_type": "code",
   "execution_count": null,
   "metadata": {},
   "outputs": [],
   "source": [
    "# Performing one-hot encoding for categorical variables\n",
    "categorical_cols = ['Officer Race', 'Subject Perceived Race', 'Geographical Area']\n",
    "data_encoded = pd.get_dummies(race_relationship_data, columns=categorical_cols, drop_first=True)\n",
    "\n",
    "# Splitting the data into features and target variable\n",
    "X = data_encoded.drop('Stop Resolution', axis=1)\n",
    "y = data_encoded['Stop Resolution']\n",
    "\n",
    "# Splitting the data into training and test sets\n",
    "X_train, X_test, y_train, y_test = train_test_split(X, y, test_size=0.2, random_state=42)"
   ]
  },
  {
   "cell_type": "code",
   "execution_count": null,
   "metadata": {},
   "outputs": [],
   "source": [
    "X_train"
   ]
  },
  {
   "cell_type": "code",
   "execution_count": null,
   "metadata": {},
   "outputs": [],
   "source": [
    "X_test"
   ]
  },
  {
   "cell_type": "code",
   "execution_count": null,
   "metadata": {},
   "outputs": [],
   "source": [
    "y_train"
   ]
  },
  {
   "cell_type": "code",
   "execution_count": null,
   "metadata": {},
   "outputs": [],
   "source": [
    "y_test"
   ]
  },
  {
   "cell_type": "markdown",
   "metadata": {},
   "source": [
    "### MODELLING AND MODEL EVALUATION"
   ]
  },
  {
   "cell_type": "code",
   "execution_count": null,
   "metadata": {},
   "outputs": [],
   "source": [
    "from sklearn.linear_model import LogisticRegression\n",
    "from sklearn.metrics import accuracy_score, classification_report\n",
    "\n",
    "# Instantiating logistic regression model\n",
    "logistic_model = LogisticRegression(max_iter=1000, random_state=42)\n",
    "\n",
    "logistic_model.fit(X_train, y_train)\n",
    "\n",
    "# predictions on the training set\n",
    "train_preds = logistic_model.predict(X_train)\n",
    "\n",
    "# predictions on the testing set\n",
    "test_preds = logistic_model.predict(X_test)\n",
    "\n",
    "# model evaluation\n",
    "train_accuracy = accuracy_score(y_train, train_preds)\n",
    "test_accuracy = accuracy_score(y_test, test_preds)\n",
    "\n",
    "print(\"Training Accuracy:\", train_accuracy)\n",
    "print(\"Testing Accuracy:\", test_accuracy)\n",
    "\n",
    "# The Classifications report/result\n",
    "print(\"\\nClassification Report:\")\n",
    "print(classification_report(y_test, test_preds, zero_division=1))\n",
    "\n"
   ]
  },
  {
   "cell_type": "code",
   "execution_count": null,
   "metadata": {},
   "outputs": [],
   "source": [
    "from sklearn.tree import DecisionTreeClassifier\n",
    "from sklearn.ensemble import RandomForestClassifier, AdaBoostClassifier, GradientBoostingClassifier\n",
    "from sklearn.naive_bayes import GaussianNB\n",
    "from sklearn.metrics import accuracy_score, classification_report\n",
    "\n",
    "# model dicts.\n",
    "models = {\n",
    "    'Decision Tree': DecisionTreeClassifier(random_state=42),\n",
    "    'Random Forest': RandomForestClassifier(random_state=42),\n",
    "    'AdaBoost': AdaBoostClassifier(random_state=42),\n",
    "    'Gradient Boosting': GradientBoostingClassifier(random_state=42),\n",
    "    'Naive Bayes': GaussianNB()\n",
    "}\n",
    "\n",
    "for name, model in models.items():\n",
    "    # Training the model\n",
    "    model.fit(X_train, y_train)\n",
    "    \n",
    "    # Predictions on the test set\n",
    "    test_preds = model.predict(X_test)\n",
    "    \n",
    "    # model evaluation\n",
    "    test_accuracy = accuracy_score(y_test, test_preds)\n",
    "    \n",
    "    # Classification report\n",
    "    report = classification_report(y_test, test_preds)\n",
    "    \n",
    "    print(f\"Model: {name}\")\n",
    "    print(f\"Testing Accuracy: {test_accuracy}\")\n",
    "    print(\"Classification Report:\")\n",
    "    print(report)\n",
    "    print()\n"
   ]
  },
  {
   "cell_type": "markdown",
   "metadata": {},
   "source": [
    "### CROSS-VALIDATION\n",
    "performing cross-validation to ensure that the model performance estimates are robust and not overly optimistic."
   ]
  },
  {
   "cell_type": "markdown",
   "metadata": {},
   "source": [
    "Random Forest has the highest mean cross-validation score, indicating better performance on average compared to the other models. Additionally, Random Forest has the lowest standard deviation among the models, suggesting more consistent performance across different folds. Therefore, based on these cross-validation results, Random Forest appears to be the best model among the ones tested."
   ]
  },
  {
   "cell_type": "code",
   "execution_count": null,
   "metadata": {},
   "outputs": [],
   "source": [
    "from sklearn.model_selection import cross_val_score\n",
    "from sklearn.tree import DecisionTreeClassifier\n",
    "from sklearn.ensemble import RandomForestClassifier, AdaBoostClassifier, GradientBoostingClassifier\n",
    "\n",
    "# models for cross validation\n",
    "models = {\n",
    "    \"Decision Tree\": DecisionTreeClassifier(),\n",
    "    \"Random Forest\": RandomForestClassifier(),\n",
    "    \"AdaBoost\": AdaBoostClassifier(),\n",
    "    \"Gradient Boosting\": GradientBoostingClassifier()\n",
    "}\n",
    "\n",
    "# Performing cross-validation for each model\n",
    "for name, model in models.items():\n",
    "    cv_scores = cross_val_score(model, X_train, y_train, cv=5)\n",
    "    print(f\"Model: {name}\")\n",
    "    print(\"Cross-validation scores:\", cv_scores)\n",
    "    print(\"Mean CV score:\", cv_scores.mean())\n",
    "    print(\"Standard deviation of CV scores:\", cv_scores.std())\n",
    "    print()"
   ]
  },
  {
   "cell_type": "markdown",
   "metadata": {},
   "source": [
    "checking for overfitting"
   ]
  },
  {
   "cell_type": "code",
   "execution_count": null,
   "metadata": {},
   "outputs": [],
   "source": [
    "import matplotlib.pyplot as plt\n",
    "from sklearn.model_selection import learning_curve\n",
    "\n",
    "train_sizes, train_scores, test_scores = learning_curve(RandomForestClassifier(), X_train, y_train, cv=5)\n",
    "\n",
    "train_scores_mean = np.mean(train_scores, axis=1)\n",
    "test_scores_mean = np.mean(test_scores, axis=1)\n",
    "\n",
    "plt.plot(train_sizes, train_scores_mean, label='Training accuracy')\n",
    "plt.plot(train_sizes, test_scores_mean, label='Testing accuracy')\n",
    "plt.xlabel('Training examples')\n",
    "plt.ylabel('Accuracy')\n",
    "plt.title('Learning curves')\n",
    "plt.legend()\n",
    "plt.show()\n"
   ]
  },
  {
   "cell_type": "markdown",
   "metadata": {},
   "source": [
    "### MODELLING AND MODEL EVALUATION"
   ]
  },
  {
   "cell_type": "markdown",
   "metadata": {},
   "source": [
    "I selected random forest as my best model and performed hyperparameter tuning on it"
   ]
  },
  {
   "cell_type": "code",
   "execution_count": 57,
   "metadata": {},
   "outputs": [
    {
     "name": "stdout",
     "output_type": "stream",
     "text": [
      "Best Model: RandomForestClassifier(min_samples_leaf=5, min_samples_split=18,\n",
      "                       n_estimators=180, random_state=42)\n",
      "Best Parameters: {'bootstrap': True, 'max_depth': None, 'min_samples_leaf': 5, 'min_samples_split': 18, 'n_estimators': 180}\n",
      "Best Cross-Validation Score: 0.6335037690612587\n"
     ]
    }
   ],
   "source": [
    "from sklearn.ensemble import RandomForestClassifier\n",
    "from sklearn.model_selection import RandomizedSearchCV\n",
    "from scipy.stats import randint\n",
    "\n",
    "# Define the hyperparameter distributions\n",
    "param_dist = {\n",
    "    'n_estimators': randint(100, 1000),\n",
    "    'max_depth': [None, 10, 20, 30, 40, 50],\n",
    "    'min_samples_split': randint(2, 20),\n",
    "    'min_samples_leaf': randint(1, 20),\n",
    "    'bootstrap': [True, False]\n",
    "}\n",
    "\n",
    "# Instantiate the model\n",
    "rf = RandomForestClassifier(random_state=42)\n",
    "\n",
    "# Perform random search\n",
    "random_search = RandomizedSearchCV(estimator=rf, param_distributions=param_dist, n_iter=50, cv=5, scoring='accuracy', random_state=42)\n",
    "\n",
    "# Fit the random search to the data\n",
    "random_search.fit(X_train, y_train)\n",
    "\n",
    "# Evaluate the best model\n",
    "best_rf = random_search.best_estimator_\n",
    "best_params = random_search.best_params_\n",
    "best_score = random_search.best_score_\n",
    "\n",
    "print(\"Best Model:\", best_rf)\n",
    "print(\"Best Parameters:\", best_params)\n",
    "print(\"Best Cross-Validation Score:\", best_score)"
   ]
  },
  {
   "cell_type": "code",
   "execution_count": 59,
   "metadata": {},
   "outputs": [
    {
     "name": "stderr",
     "output_type": "stream",
     "text": [
      "c:\\Users\\HP\\anaconda3\\envs\\learn-env\\lib\\site-packages\\sklearn\\metrics\\_classification.py:1509: UndefinedMetricWarning: Precision is ill-defined and being set to 0.0 in labels with no predicted samples. Use `zero_division` parameter to control this behavior.\n",
      "  _warn_prf(average, modifier, f\"{metric.capitalize()} is\", len(result))\n"
     ]
    },
    {
     "name": "stdout",
     "output_type": "stream",
     "text": [
      "Evaluation Metrics:\n",
      "Accuracy: 0.6318235592360993\n",
      "Precision: 0.5743084601067211\n",
      "Recall: 0.6318235592360993\n",
      "F1 Score: 0.563522422294441\n",
      "\n",
      "Confusion Matrix:\n",
      "[[ 178    0 1535 1172    0]\n",
      " [   3    0   34   13    0]\n",
      " [  67    0 5185  602    0]\n",
      " [ 178    0  604 2114    0]\n",
      " [  18    0   21  110    0]]\n"
     ]
    }
   ],
   "source": [
    "from sklearn.metrics import accuracy_score, precision_score, recall_score, f1_score, confusion_matrix\n",
    "\n",
    "# Make predictions on the test set\n",
    "test_preds = best_rf.predict(X_test)\n",
    "\n",
    "# Calculate evaluation metrics\n",
    "accuracy = accuracy_score(y_test, test_preds)\n",
    "precision = precision_score(y_test, test_preds, average='weighted')\n",
    "recall = recall_score(y_test, test_preds, average='weighted')\n",
    "f1 = f1_score(y_test, test_preds, average='weighted')\n",
    "conf_matrix = confusion_matrix(y_test, test_preds)\n",
    "\n",
    "# Print evaluation metrics\n",
    "print(\"Evaluation Metrics:\")\n",
    "print(\"Accuracy:\", accuracy)\n",
    "print(\"Precision:\", precision)\n",
    "print(\"Recall:\", recall)\n",
    "print(\"F1 Score:\", f1)\n",
    "print(\"\\nConfusion Matrix:\")\n",
    "print(conf_matrix)\n"
   ]
  },
  {
   "cell_type": "code",
   "execution_count": 69,
   "metadata": {},
   "outputs": [
    {
     "name": "stdout",
     "output_type": "stream",
     "text": [
      "Misclassified Instances:\n",
      "       Weapon Involved  Officer Race_Asian  \\\n",
      "45856                1               False   \n",
      "58834                1               False   \n",
      "48763                0                True   \n",
      "4265                 0               False   \n",
      "48584                1               False   \n",
      "...                ...                 ...   \n",
      "10602                1               False   \n",
      "11107                0               False   \n",
      "52209                1               False   \n",
      "3481                 0               False   \n",
      "43343                0                True   \n",
      "\n",
      "       Officer Race_Black or African American  \\\n",
      "45856                                   False   \n",
      "58834                                   False   \n",
      "48763                                   False   \n",
      "4265                                    False   \n",
      "48584                                   False   \n",
      "...                                       ...   \n",
      "10602                                   False   \n",
      "11107                                   False   \n",
      "52209                                   False   \n",
      "3481                                     True   \n",
      "43343                                   False   \n",
      "\n",
      "       Officer Race_Hispanic or Latino  \\\n",
      "45856                            False   \n",
      "58834                            False   \n",
      "48763                            False   \n",
      "4265                             False   \n",
      "48584                            False   \n",
      "...                                ...   \n",
      "10602                            False   \n",
      "11107                            False   \n",
      "52209                            False   \n",
      "3481                             False   \n",
      "43343                            False   \n",
      "\n",
      "       Officer Race_Nat Hawaiian/Oth Pac Islander  Officer Race_Not Specified  \\\n",
      "45856                                       False                       False   \n",
      "58834                                       False                       False   \n",
      "48763                                       False                       False   \n",
      "4265                                        False                       False   \n",
      "48584                                       False                       False   \n",
      "...                                           ...                         ...   \n",
      "10602                                       False                       False   \n",
      "11107                                       False                       False   \n",
      "52209                                       False                       False   \n",
      "3481                                        False                       False   \n",
      "43343                                       False                       False   \n",
      "\n",
      "       Officer Race_Two or More Races  Officer Race_Unknown  \\\n",
      "45856                           False                 False   \n",
      "58834                           False                 False   \n",
      "48763                           False                 False   \n",
      "4265                            False                 False   \n",
      "48584                           False                 False   \n",
      "...                               ...                   ...   \n",
      "10602                           False                 False   \n",
      "11107                           False                 False   \n",
      "52209                           False                 False   \n",
      "3481                            False                 False   \n",
      "43343                           False                 False   \n",
      "\n",
      "       Officer Race_White  \\\n",
      "45856                True   \n",
      "58834                True   \n",
      "48763               False   \n",
      "4265                 True   \n",
      "48584                True   \n",
      "...                   ...   \n",
      "10602                True   \n",
      "11107                True   \n",
      "52209                True   \n",
      "3481                False   \n",
      "43343               False   \n",
      "\n",
      "       Subject Perceived Race_American Indian or Alaska Native  ...  \\\n",
      "45856                                              False        ...   \n",
      "58834                                              False        ...   \n",
      "48763                                              False        ...   \n",
      "4265                                               False        ...   \n",
      "48584                                              False        ...   \n",
      "...                                                  ...        ...   \n",
      "10602                                              False        ...   \n",
      "11107                                              False        ...   \n",
      "52209                                              False        ...   \n",
      "3481                                               False        ...   \n",
      "43343                                              False        ...   \n",
      "\n",
      "       Geographical Area_West-K-K2  Geographical Area_West-K-K3  \\\n",
      "45856                        False                        False   \n",
      "58834                        False                        False   \n",
      "48763                        False                        False   \n",
      "4265                         False                        False   \n",
      "48584                        False                        False   \n",
      "...                            ...                          ...   \n",
      "10602                        False                        False   \n",
      "11107                        False                        False   \n",
      "52209                        False                        False   \n",
      "3481                         False                        False   \n",
      "43343                        False                        False   \n",
      "\n",
      "       Geographical Area_West-K-M3  Geographical Area_West-M-B3  \\\n",
      "45856                        False                        False   \n",
      "58834                        False                        False   \n",
      "48763                        False                        False   \n",
      "4265                         False                        False   \n",
      "48584                        False                        False   \n",
      "...                            ...                          ...   \n",
      "10602                        False                        False   \n",
      "11107                        False                        False   \n",
      "52209                        False                        False   \n",
      "3481                         False                        False   \n",
      "43343                        False                        False   \n",
      "\n",
      "       Geographical Area_West-M-M1  Geographical Area_West-M-M2  \\\n",
      "45856                        False                        False   \n",
      "58834                        False                        False   \n",
      "48763                        False                        False   \n",
      "4265                         False                        False   \n",
      "48584                        False                        False   \n",
      "...                            ...                          ...   \n",
      "10602                        False                        False   \n",
      "11107                        False                        False   \n",
      "52209                        False                        False   \n",
      "3481                         False                        False   \n",
      "43343                        False                        False   \n",
      "\n",
      "       Geographical Area_West-M-M3  Geographical Area_West-Q-Q1  \\\n",
      "45856                         True                        False   \n",
      "58834                        False                        False   \n",
      "48763                        False                        False   \n",
      "4265                         False                        False   \n",
      "48584                         True                        False   \n",
      "...                            ...                          ...   \n",
      "10602                        False                        False   \n",
      "11107                        False                        False   \n",
      "52209                        False                        False   \n",
      "3481                         False                        False   \n",
      "43343                        False                        False   \n",
      "\n",
      "       Geographical Area_West-Q-Q2  Geographical Area_West-Q-Q3  \n",
      "45856                        False                        False  \n",
      "58834                        False                        False  \n",
      "48763                        False                        False  \n",
      "4265                         False                        False  \n",
      "48584                        False                        False  \n",
      "...                            ...                          ...  \n",
      "10602                        False                        False  \n",
      "11107                        False                        False  \n",
      "52209                        False                        False  \n",
      "3481                         False                        False  \n",
      "43343                        False                        False  \n",
      "\n",
      "[4357 rows x 92 columns]\n"
     ]
    },
    {
     "data": {
      "image/png": "[encoded data removed]",
      "text/plain": [
       "<Figure size 640x480 with 1 Axes>"
      ]
     },
     "metadata": {},
     "output_type": "display_data"
    }
   ],
   "source": [
    "# Identify misclassified instances\n",
    "misclassified_indices = y_test != test_preds\n",
    "misclassified_instances = X_test[misclassified_indices]\n",
    "true_labels = y_test[misclassified_indices]\n",
    "predicted_labels = test_preds[misclassified_indices]\n",
    "\n",
    "# Examine features of misclassified instances\n",
    "print(\"Misclassified Instances:\")\n",
    "print(misclassified_instances)\n",
    "\n",
    "# Visualize data (example: histogram of a feature)\n",
    "import matplotlib.pyplot as plt\n",
    "\n",
    "# Visualize data (example: histogram of a feature)\n",
    "plt.hist(misclassified_instances.iloc[:, 0])  # Replace 0 with the index of the feature you want to visualize\n",
    "plt.xlabel(\"Feature Value\")\n",
    "plt.ylabel(\"Frequency\")\n",
    "plt.title(\"Histogram of Misclassified Feature\")\n",
    "plt.show()\n",
    "\n"
   ]
  },
  {
   "cell_type": "code",
   "execution_count": 68,
   "metadata": {},
   "outputs": [
    {
     "name": "stdout",
     "output_type": "stream",
     "text": [
      "Index(['Weapon Involved', 'Officer Race_Asian',\n",
      "       'Officer Race_Black or African American',\n",
      "       'Officer Race_Hispanic or Latino',\n",
      "       'Officer Race_Nat Hawaiian/Oth Pac Islander',\n",
      "       'Officer Race_Not Specified', 'Officer Race_Two or More Races',\n",
      "       'Officer Race_Unknown', 'Officer Race_White',\n",
      "       'Subject Perceived Race_American Indian or Alaska Native',\n",
      "       'Subject Perceived Race_Asian',\n",
      "       'Subject Perceived Race_Black or African American',\n",
      "       'Subject Perceived Race_DUPLICATE', 'Subject Perceived Race_Hispanic',\n",
      "       'Subject Perceived Race_Multi-Racial',\n",
      "       'Subject Perceived Race_Native Hawaiian or Other Pacific Islander',\n",
      "       'Subject Perceived Race_Other', 'Subject Perceived Race_Unknown',\n",
      "       'Subject Perceived Race_White', 'Geographical Area_East-C-C1',\n",
      "       'Geographical Area_East-C-C2', 'Geographical Area_East-C-C3',\n",
      "       'Geographical Area_East-E-C1', 'Geographical Area_East-E-E1',\n",
      "       'Geographical Area_East-E-E2', 'Geographical Area_East-E-E3',\n",
      "       'Geographical Area_East-G-G1', 'Geographical Area_East-G-G2',\n",
      "       'Geographical Area_East-G-G3', 'Geographical Area_East-G-K3',\n",
      "       'Geographical Area_East-R-R2', 'Geographical Area_FK ERROR---FK ERROR',\n",
      "       'Geographical Area_FK ERROR-OOJ-99', 'Geographical Area_North-B-B1',\n",
      "       'Geographical Area_North-B-B2', 'Geographical Area_North-B-B3',\n",
      "       'Geographical Area_North-J-J1', 'Geographical Area_North-J-J2',\n",
      "       'Geographical Area_North-J-J3', 'Geographical Area_North-L-L1',\n",
      "       'Geographical Area_North-L-L2', 'Geographical Area_North-L-L3',\n",
      "       'Geographical Area_North-N-B2', 'Geographical Area_North-N-N1',\n",
      "       'Geographical Area_North-N-N2', 'Geographical Area_North-N-N3',\n",
      "       'Geographical Area_North-OOJ-99', 'Geographical Area_North-U-U1',\n",
      "       'Geographical Area_North-U-U2', 'Geographical Area_North-U-U3',\n",
      "       'Geographical Area_OOJ---99', 'Geographical Area_OOJ---OOJ',\n",
      "       'Geographical Area_OOJ-OOJ-99', 'Geographical Area_OOJ-OOJ-OOJ',\n",
      "       'Geographical Area_South-E-O3', 'Geographical Area_South-F-F3',\n",
      "       'Geographical Area_South-O-O1', 'Geographical Area_South-O-O2',\n",
      "       'Geographical Area_South-O-O3', 'Geographical Area_South-R-R1',\n",
      "       'Geographical Area_South-R-R2', 'Geographical Area_South-R-R3',\n",
      "       'Geographical Area_South-S-S1', 'Geographical Area_South-S-S2',\n",
      "       'Geographical Area_South-S-S3', 'Geographical Area_Southwest-B-W2',\n",
      "       'Geographical Area_Southwest-F-F1', 'Geographical Area_Southwest-F-F2',\n",
      "       'Geographical Area_Southwest-F-F3',\n",
      "       'Geographical Area_Southwest-OOJ-99',\n",
      "       'Geographical Area_Southwest-R-R1', 'Geographical Area_Southwest-W-W1',\n",
      "       'Geographical Area_Southwest-W-W2', 'Geographical Area_Southwest-W-W3',\n",
      "       'Geographical Area_Unknown----', 'Geographical Area_Unknown---S',\n",
      "       'Geographical Area_Unknown-99-99', 'Geographical Area_West---M1',\n",
      "       'Geographical Area_West-D-D1', 'Geographical Area_West-D-D2',\n",
      "       'Geographical Area_West-D-D3', 'Geographical Area_West-K-K1',\n",
      "       'Geographical Area_West-K-K2', 'Geographical Area_West-K-K3',\n",
      "       'Geographical Area_West-K-M3', 'Geographical Area_West-M-B3',\n",
      "       'Geographical Area_West-M-M1', 'Geographical Area_West-M-M2',\n",
      "       'Geographical Area_West-M-M3', 'Geographical Area_West-Q-Q1',\n",
      "       'Geographical Area_West-Q-Q2', 'Geographical Area_West-Q-Q3'],\n",
      "      dtype='object')\n"
     ]
    }
   ],
   "source": [
    "print(misclassified_instances.columns)\n"
   ]
  }
 ],
 "metadata": {
  "kernelspec": {
   "display_name": "learn-env",
   "language": "python",
   "name": "python3"
  },
  "language_info": {
   "codemirror_mode": {
    "name": "ipython",
    "version": 3
   },
   "file_extension": ".py",
   "mimetype": "text/x-python",
   "name": "python",
   "nbconvert_exporter": "python",
   "pygments_lexer": "ipython3",
   "version": "3.10.13"
  }
 },
 "nbformat": 4,
 "nbformat_minor": 2
}
